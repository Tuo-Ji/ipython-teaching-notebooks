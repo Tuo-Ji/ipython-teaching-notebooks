{
 "metadata": {
  "name": "SciPyIntro"
 }, 
 "nbformat": 2, 
 "worksheets": [
  {
   "cells": [
    {
     "cell_type": "markdown", 
     "source": [
      "Import NumPy and SciPy"
     ]
    }, 
    {
     "cell_type": "code", 
     "collapsed": true, 
     "input": [
      "import numpy as np"
     ], 
     "language": "python", 
     "outputs": [], 
     "prompt_number": 3
    }, 
    {
     "cell_type": "code", 
     "collapsed": true, 
     "input": [
      "import scipy as sp"
     ], 
     "language": "python", 
     "outputs": [], 
     "prompt_number": 4
    }, 
    {
     "cell_type": "markdown", 
     "source": [
      "Differences in temperament between NumPy and SciPy; see, e.g., http://www.scipy.org/NegativeSquareRoot"
     ]
    }, 
    {
     "cell_type": "code", 
     "collapsed": false, 
     "input": [
      "exp(pi*np.sqrt(-1)) + 1"
     ], 
     "language": "python", 
     "outputs": [], 
     "prompt_number": 5
    }, 
    {
     "cell_type": "code", 
     "collapsed": false, 
     "input": [
      "exp(pi*sp.sqrt(-1)) + 1"
     ], 
     "language": "python", 
     "outputs": [], 
     "prompt_number": 6
    }, 
    {
     "cell_type": "markdown", 
     "source": [
      "**Getting data in and out of SciPy**"
     ]
    }, 
    {
     "cell_type": "markdown", 
     "source": [
      "Import Matlab data into python"
     ]
    }, 
    {
     "cell_type": "code", 
     "collapsed": true, 
     "input": [
      "import scipy.io as sio"
     ], 
     "language": "python", 
     "outputs": [], 
     "prompt_number": 7
    }, 
    {
     "cell_type": "code", 
     "collapsed": true, 
     "input": [
      "struct = sio.loadmat('testbox.mat') # Imports Matlab data structure"
     ], 
     "language": "python", 
     "outputs": [], 
     "prompt_number": 8
    }, 
    {
     "cell_type": "code", 
     "collapsed": false, 
     "input": [
      "struct"
     ], 
     "language": "python", 
     "outputs": [], 
     "prompt_number": 9
    }, 
    {
     "cell_type": "code", 
     "collapsed": true, 
     "input": [
      "box = struct['box'] # Extracts data object from structure"
     ], 
     "language": "python", 
     "outputs": [], 
     "prompt_number": 10
    }, 
    {
     "cell_type": "markdown", 
     "source": [
      "Construct sequence of n (linearly-spaced) numbers, from a to b"
     ]
    }, 
    {
     "cell_type": "code", 
     "collapsed": true, 
     "input": [
      "a = 50; b = 100-0.1; n = 57;"
     ], 
     "language": "python", 
     "outputs": [], 
     "prompt_number": 6
    }, 
    {
     "cell_type": "code", 
     "collapsed": true, 
     "input": [
      "sp.linspace(a,b,n)"
     ], 
     "language": "python", 
     "outputs": [], 
     "prompt_number": 7
    }, 
    {
     "cell_type": "markdown", 
     "source": [
      "Construct sequence of n (base-10 logarithmically-spaced) numbers between 10^a and 10^b"
     ]
    }, 
    {
     "cell_type": "code", 
     "collapsed": true, 
     "input": [
      "a = -1; b = 1; n = 20;"
     ], 
     "language": "python", 
     "outputs": [], 
     "prompt_number": 11
    }, 
    {
     "cell_type": "code", 
     "collapsed": false, 
     "input": [
      "sp.logspace(a,b,n)"
     ], 
     "language": "python", 
     "outputs": [], 
     "prompt_number": 13
    }, 
    {
     "cell_type": "markdown", 
     "source": [
      "Construct coordinate array"
     ]
    }, 
    {
     "cell_type": "code", 
     "collapsed": true, 
     "input": [
      "x,y = np.mgrid[0:5,0:5]"
     ], 
     "language": "python", 
     "outputs": [], 
     "prompt_number": 19
    }, 
    {
     "cell_type": "code", 
     "collapsed": false, 
     "input": [
      "x"
     ], 
     "language": "python", 
     "outputs": [], 
     "prompt_number": 15
    }, 
    {
     "cell_type": "code", 
     "collapsed": false, 
     "input": [
      "y"
     ], 
     "language": "python", 
     "outputs": [], 
     "prompt_number": 16
    }, 
    {
     "cell_type": "code", 
     "collapsed": false, 
     "input": [
      "np.sqrt(x**2 + y**2)"
     ], 
     "language": "python", 
     "outputs": [], 
     "prompt_number": 17
    }, 
    {
     "cell_type": "markdown", 
     "source": [
      "Construct tiled array"
     ]
    }, 
    {
     "cell_type": "code", 
     "collapsed": true, 
     "input": [
      "x = np.linspace(0,10,11);"
     ], 
     "language": "python", 
     "outputs": [], 
     "prompt_number": 20
    }, 
    {
     "cell_type": "code", 
     "collapsed": false, 
     "input": [
      "x"
     ], 
     "language": "python", 
     "outputs": [], 
     "prompt_number": 21
    }, 
    {
     "cell_type": "code", 
     "collapsed": false, 
     "input": [
      "np.c_[x,x**2]"
     ], 
     "language": "python", 
     "outputs": [], 
     "prompt_number": 22
    }, 
    {
     "cell_type": "markdown", 
     "source": [
      "**SymPy Introduction**"
     ]
    }, 
    {
     "cell_type": "code", 
     "collapsed": true, 
     "input": [
      "from sympy import *"
     ], 
     "language": "python", 
     "outputs": [], 
     "prompt_number": 23
    }, 
    {
     "cell_type": "code", 
     "collapsed": false, 
     "input": [
      "1/2 + 1/3"
     ], 
     "language": "python", 
     "outputs": [], 
     "prompt_number": 24
    }, 
    {
     "cell_type": "code", 
     "collapsed": false, 
     "input": [
      "Rational(1,2) + Rational(1,3)"
     ], 
     "language": "python", 
     "outputs": [], 
     "prompt_number": 25
    }, 
    {
     "cell_type": "code", 
     "collapsed": false, 
     "input": [
      "Rational(5,6).evalf(6)"
     ], 
     "language": "python", 
     "outputs": [], 
     "prompt_number": 26
    }, 
    {
     "cell_type": "code", 
     "collapsed": false, 
     "input": [
      "1./2. + 1./3."
     ], 
     "language": "python", 
     "outputs": [], 
     "prompt_number": 27
    }, 
    {
     "cell_type": "markdown", 
     "source": [
      "Calculus with symbolic variables"
     ]
    }, 
    {
     "cell_type": "code", 
     "collapsed": true, 
     "input": [
      "x = Symbol(\"x\");"
     ], 
     "language": "python", 
     "outputs": [], 
     "prompt_number": 28
    }, 
    {
     "cell_type": "code", 
     "collapsed": false, 
     "input": [
      "limit( sin(x) / x, x, 0)"
     ], 
     "language": "python", 
     "outputs": [], 
     "prompt_number": 29
    }, 
    {
     "cell_type": "code", 
     "collapsed": false, 
     "input": [
      "diff(erf(x),x)"
     ], 
     "language": "python", 
     "outputs": [], 
     "prompt_number": 30
    }, 
    {
     "cell_type": "code", 
     "collapsed": false, 
     "input": [
      "integrate(1./sqrt(pi) * exp(-x**2),x)"
     ], 
     "language": "python", 
     "outputs": [], 
     "prompt_number": 31
    }, 
    {
     "cell_type": "code", 
     "collapsed": false, 
     "input": [
      "integrate(1./sqrt(pi) * exp(-x**2), (x,-oo,0) ).evalf(3)"
     ], 
     "language": "python", 
     "outputs": [], 
     "prompt_number": 32
    }, 
    {
     "cell_type": "markdown", 
     "source": [
      "Matrix computations"
     ]
    }, 
    {
     "cell_type": "code", 
     "collapsed": false, 
     "input": [
      "M = Matrix( ([1, x], [x, 1]) )", 
      "pprint(M)"
     ], 
     "language": "python", 
     "outputs": [], 
     "prompt_number": 33
    }, 
    {
     "cell_type": "code", 
     "collapsed": true, 
     "input": [
      "%load_ext sympyprinting"
     ], 
     "language": "python", 
     "outputs": [], 
     "prompt_number": 39
    }, 
    {
     "cell_type": "code", 
     "collapsed": false, 
     "input": [
      "M.inv()"
     ], 
     "language": "python", 
     "outputs": [], 
     "prompt_number": 40
    }, 
    {
     "cell_type": "code", 
     "collapsed": true, 
     "input": [
      "M.cholesky()"
     ], 
     "language": "python", 
     "outputs": [], 
     "prompt_number": 74
    }, 
    {
     "cell_type": "markdown", 
     "source": [
      "**Interfacing with other languages**"
     ]
    }, 
    {
     "cell_type": "markdown", 
     "source": [
      "See files in f2py_example. Things to note:"
     ]
    }, 
    {
     "cell_type": "markdown", 
     "source": [
      "*i) differences between subroutines and functions in Fortran are not really important here*"
     ]
    }, 
    {
     "cell_type": "markdown", 
     "source": [
      "*ii) passing arrays is fine, but you need to pass their dimensions as well*"
     ]
    }, 
    {
     "cell_type": "markdown", 
     "source": [
      "*iii) In general, SciPy contains many useful functions that work as quickly as Fortran/C. But if you need to crunch something inside a loop, or nested loops, a considerable speed-up is possible*"
     ]
    }, 
    {
     "cell_type": "code", 
     "collapsed": true, 
     "input": [
      "!f2py --fcompiler=gfortran -c example.f90 -m example"
     ], 
     "language": "python", 
     "outputs": [], 
     "prompt_number": 80
    }, 
    {
     "cell_type": "code", 
     "collapsed": true, 
     "input": [
      "import example"
     ], 
     "language": "python", 
     "outputs": [], 
     "prompt_number": "&nbsp;"
    }, 
    {
     "cell_type": "code", 
     "collapsed": true, 
     "input": [
      "a = 14; b = 78;"
     ], 
     "language": "python", 
     "outputs": [], 
     "prompt_number": "&nbsp;"
    }, 
    {
     "cell_type": "code", 
     "collapsed": true, 
     "input": [
      "c,d = example.arithmetic(a,b)"
     ], 
     "language": "python", 
     "outputs": [], 
     "prompt_number": "&nbsp;"
    }, 
    {
     "cell_type": "markdown", 
     "source": [
      "A weave example (courtesy of Nat Butler) is below"
     ]
    }, 
    {
     "cell_type": "code", 
     "collapsed": true, 
     "input": [
      "from scipy import weave"
     ], 
     "language": "python", 
     "outputs": [], 
     "prompt_number": 91
    }, 
    {
     "cell_type": "code", 
     "collapsed": true, 
     "input": [
      "x = np.arange(1000)/1000.", 
      "y = np.zeros(1000,dtype=np.double)", 
      "n=len(x)"
     ], 
     "language": "python", 
     "outputs": [], 
     "prompt_number": 92
    }, 
    {
     "cell_type": "code", 
     "collapsed": true, 
     "input": [
      "code = \"\"\"", 
      "    int i;", 
      "    for (i=0;i<n;i++) {", 
      "      if (*x<0.5) *y = exp(-(*x)*2);", 
      "      else *y = exp(-(*x));", 
      "      x++; y++;", 
      "    }", 
      "\"\"\""
     ], 
     "language": "python", 
     "outputs": [], 
     "prompt_number": 100
    }, 
    {
     "cell_type": "code", 
     "collapsed": true, 
     "input": [
      "weave.inline(code,['n','x','y'])"
     ], 
     "language": "python", 
     "outputs": [], 
     "prompt_number": 101
    }, 
    {
     "cell_type": "code", 
     "collapsed": true, 
     "input": [
      "print y"
     ], 
     "language": "python", 
     "outputs": [], 
     "prompt_number": 103
    }
   ]
  }
 ]
}