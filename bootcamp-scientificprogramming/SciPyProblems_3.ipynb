{
 "metadata": {
  "name": "SciPyProblems_3"
 }, 
 "nbformat": 2, 
 "worksheets": [
  {
   "cells": [
    {
     "cell_type": "markdown", 
     "source": [
      "**III. Fitting a curve to covariant data**"
     ]
    }, 
    {
     "cell_type": "markdown", 
     "source": [
      "Load data"
     ]
    }, 
    {
     "cell_type": "code", 
     "collapsed": false, 
     "input": [], 
     "language": "python", 
     "outputs": [], 
     "prompt_number": 1
    }, 
    {
     "cell_type": "markdown", 
     "source": [
      "Fit curve to data using Nelder-Mead optimisation"
     ]
    }, 
    {
     "cell_type": "code", 
     "collapsed": false, 
     "input": [
      "from scipy.optimize import fmin", 
      "fn = lambda P: ", 
      "chi2 = "
     ], 
     "language": "python", 
     "outputs": [], 
     "prompt_number": 14
    }, 
    {
     "cell_type": "code", 
     "collapsed": false, 
     "input": [
      "errorbar(x,y,dy,fmt=None)", 
      "plot(x,fn(A),'k--')"
     ], 
     "language": "python", 
     "outputs": [], 
     "prompt_number": 21
    }, 
    {
     "cell_type": "markdown", 
     "source": [
      "Load covariance matrix, C"
     ]
    }, 
    {
     "cell_type": "code", 
     "collapsed": false, 
     "input": [
      "from scipy.io import loadmat", 
      "data = loadmat('C.mat')", 
      "C = data['C']", 
      "imshow(C)"
     ], 
     "language": "python", 
     "outputs": [], 
     "prompt_number": 29
    }, 
    {
     "cell_type": "markdown", 
     "source": [
      "Attempt to compute inverse of covariance matrix"
     ]
    }, 
    {
     "cell_type": "code", 
     "collapsed": false, 
     "input": [
      "from scipy.linalg import inv, det", 
      "iC = "
     ], 
     "language": "python", 
     "outputs": [], 
     "prompt_number": 69
    }, 
    {
     "cell_type": "markdown", 
     "source": [
      "Now, fit curve using this inverse"
     ]
    }, 
    {
     "cell_type": "code", 
     "collapsed": false, 
     "input": [], 
     "language": "python", 
     "outputs": [], 
     "prompt_number": 70
    }, 
    {
     "cell_type": "markdown", 
     "source": [
      "Eigendecompose covariance matrix"
     ]
    }, 
    {
     "cell_type": "code", 
     "collapsed": false, 
     "input": [
      "from scipy.linalg import eigh", 
      "E, V = eigh(C)"
     ], 
     "language": "python", 
     "outputs": [], 
     "prompt_number": 62
    }, 
    {
     "cell_type": "code", 
     "collapsed": false, 
     "input": [], 
     "language": "python", 
     "outputs": [], 
     "prompt_number": 63
    }, 
    {
     "cell_type": "markdown", 
     "source": [
      "Find problematic eigenvalues"
     ]
    }, 
    {
     "cell_type": "code", 
     "collapsed": false, 
     "input": [
      "iE = 1/E", 
      "flagged = find(abs(iE)>1e10)", 
      "iE[flagged] = 0", 
      "iE"
     ], 
     "language": "python", 
     "outputs": [], 
     "prompt_number": 65
    }, 
    {
     "cell_type": "markdown", 
     "source": [
      "Construct inverse of eigenvalue matrix, with problematic eigenvalues zapped"
     ]
    }, 
    {
     "cell_type": "markdown", 
     "source": [
      "Build inverse from this new eigenvalue matrix"
     ]
    }, 
    {
     "cell_type": "code", 
     "collapsed": true, 
     "input": [], 
     "language": "python", 
     "outputs": [], 
     "prompt_number": "&nbsp;"
    }, 
    {
     "cell_type": "code", 
     "collapsed": false, 
     "input": [
      "iC = dot(dot(V,diag(iE)),transpose(V))", 
      "imshow(iC)"
     ], 
     "language": "python", 
     "outputs": [], 
     "prompt_number": 66
    }
   ]
  }
 ]
}