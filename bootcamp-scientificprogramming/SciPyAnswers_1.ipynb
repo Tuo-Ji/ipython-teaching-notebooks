{
 "metadata": {
  "name": "SciPyAnswers_1"
 }, 
 "nbformat": 2, 
 "worksheets": [
  {
   "cells": [
    {
     "cell_type": "code", 
     "collapsed": true, 
     "input": [
      "import numpy as np"
     ], 
     "language": "python", 
     "outputs": [], 
     "prompt_number": 1
    }, 
    {
     "cell_type": "code", 
     "collapsed": true, 
     "input": [
      "import scipy as sp"
     ], 
     "language": "python", 
     "outputs": [], 
     "prompt_number": 2
    }, 
    {
     "cell_type": "markdown", 
     "source": [
      "**I. Integration and interpolation**"
     ]
    }, 
    {
     "cell_type": "code", 
     "collapsed": true, 
     "input": [
      "zz = np.loadtxt('wiggleZ_DR1_z.dat',dtype='float'); # Load WiggleZ redshifts"
     ], 
     "language": "python", 
     "outputs": [], 
     "prompt_number": 75
    }, 
    {
     "cell_type": "code", 
     "collapsed": true, 
     "input": [
      "np.min(zz)"
     ], 
     "language": "python", 
     "outputs": [], 
     "prompt_number": 76
    }, 
    {
     "cell_type": "code", 
     "collapsed": true, 
     "input": [
      "np.max(zz)"
     ], 
     "language": "python", 
     "outputs": [], 
     "prompt_number": 77
    }, 
    {
     "cell_type": "code", 
     "collapsed": true, 
     "input": [
      "nbins = 50;"
     ], 
     "language": "python", 
     "outputs": [], 
     "prompt_number": 145
    }, 
    {
     "cell_type": "code", 
     "collapsed": true, 
     "input": [
      "n, bins, patches = hist(zz,nbins)"
     ], 
     "language": "python", 
     "outputs": [], 
     "prompt_number": 146
    }, 
    {
     "cell_type": "code", 
     "collapsed": true, 
     "input": [
      "x = bins[0:nbins] + (bins[2]-bins[1])/2; # Adjust bin edges to centre"
     ], 
     "language": "python", 
     "outputs": [], 
     "prompt_number": 147
    }, 
    {
     "cell_type": "code", 
     "collapsed": true, 
     "input": [
      "from scipy.interpolate import interp1d"
     ], 
     "language": "python", 
     "outputs": [], 
     "prompt_number": 148
    }, 
    {
     "cell_type": "code", 
     "collapsed": true, 
     "input": [
      "zdist = interp1d(x,n, kind='cubic', bounds_error = False, fill_value=0)"
     ], 
     "language": "python", 
     "outputs": [], 
     "prompt_number": 149
    }, 
    {
     "cell_type": "code", 
     "collapsed": true, 
     "input": [
      "z = linspace(0,2,100)"
     ], 
     "language": "python", 
     "outputs": [], 
     "prompt_number": 186
    }, 
    {
     "cell_type": "code", 
     "collapsed": true, 
     "input": [
      "plot(z,zdist(z))"
     ], 
     "language": "python", 
     "outputs": [], 
     "prompt_number": 187
    }, 
    {
     "cell_type": "code", 
     "collapsed": true, 
     "input": [
      "from scipy import integrate"
     ], 
     "language": "python", 
     "outputs": [], 
     "prompt_number": 188
    }, 
    {
     "cell_type": "code", 
     "collapsed": true, 
     "input": [
      "cumz = lambda z0: integrate.quad(zdist,0,z0)[0]"
     ], 
     "language": "python", 
     "outputs": [], 
     "prompt_number": 189
    }, 
    {
     "cell_type": "code", 
     "collapsed": true, 
     "input": [
      "total = cumz(5)"
     ], 
     "language": "python", 
     "outputs": [], 
     "prompt_number": 190
    }, 
    {
     "cell_type": "code", 
     "collapsed": true, 
     "input": [
      "total"
     ], 
     "language": "python", 
     "outputs": [], 
     "prompt_number": 191
    }, 
    {
     "cell_type": "code", 
     "collapsed": true, 
     "input": [
      "Pz = 0 * z;", 
      "for i in range(len(z)):", 
      "    Pz[i] = cumz(z[i]) / total"
     ], 
     "language": "python", 
     "outputs": [], 
     "prompt_number": 192
    }, 
    {
     "cell_type": "code", 
     "collapsed": true, 
     "input": [
      "plot(z,Pz,Pz,z)"
     ], 
     "language": "python", 
     "outputs": [], 
     "prompt_number": 195
    }, 
    {
     "cell_type": "code", 
     "collapsed": true, 
     "input": [
      "zvar = interp1d(Pz,z,kind='cubic')"
     ], 
     "language": "python", 
     "outputs": [], 
     "prompt_number": 197
    }, 
    {
     "cell_type": "code", 
     "collapsed": true, 
     "input": [
      "from numpy import random"
     ], 
     "language": "python", 
     "outputs": [], 
     "prompt_number": 198
    }, 
    {
     "cell_type": "code", 
     "collapsed": true, 
     "input": [
      "rand()"
     ], 
     "language": "python", 
     "outputs": [], 
     "prompt_number": 200
    }, 
    {
     "cell_type": "code", 
     "collapsed": true, 
     "input": [
      "output = zvar(rand(100000,1))"
     ], 
     "language": "python", 
     "outputs": [], 
     "prompt_number": 208
    }, 
    {
     "cell_type": "code", 
     "collapsed": true, 
     "input": [
      "hist(output,100)"
     ], 
     "language": "python", 
     "outputs": [], 
     "prompt_number": 209
    }, 
    {
     "cell_type": "markdown", 
     "source": [
      "**II. Random sampling and FFTs**"
     ]
    }, 
    {
     "cell_type": "code", 
     "collapsed": true, 
     "input": [], 
     "language": "python", 
     "outputs": [], 
     "prompt_number": "&nbsp;"
    }, 
    {
     "cell_type": "markdown", 
     "source": [
      "**III. Fitting a model to (covariant) data**"
     ]
    }, 
    {
     "cell_type": "code", 
     "collapsed": true, 
     "input": [], 
     "language": "python", 
     "outputs": [], 
     "prompt_number": "&nbsp;"
    }
   ]
  }
 ]
}