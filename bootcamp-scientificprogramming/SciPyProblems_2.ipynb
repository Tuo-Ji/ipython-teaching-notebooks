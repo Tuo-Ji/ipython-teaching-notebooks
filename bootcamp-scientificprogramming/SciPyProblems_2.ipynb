{
 "metadata": {
  "name": "SciPyProblems_2"
 }, 
 "nbformat": 2, 
 "worksheets": [
  {
   "cells": [
    {
     "cell_type": "markdown", 
     "source": [
      "**II. Random sampling and FFTs**"
     ]
    }, 
    {
     "cell_type": "code", 
     "collapsed": false, 
     "input": [
      "%pylab"
     ], 
     "language": "python", 
     "outputs": [], 
     "prompt_number": 53
    }, 
    {
     "cell_type": "markdown", 
     "source": [
      "Load data from file"
     ]
    }, 
    {
     "cell_type": "code", 
     "collapsed": true, 
     "input": [
      "data = # Load data", 
      "x = ; y = ; dy = ; # Assign variables from data columns"
     ], 
     "language": "python", 
     "outputs": [], 
     "prompt_number": 5
    }, 
    {
     "cell_type": "markdown", 
     "source": [
      "Take FFT of data values"
     ]
    }, 
    {
     "cell_type": "code", 
     "collapsed": false, 
     "input": [
      "# Import the command you need", 
      "fy = # Take FFT", 
      "semilogy(x,fy * conj(fy),'k.') # Plot power spectrum in log scale "
     ], 
     "language": "python", 
     "outputs": [], 
     "prompt_number": 19
    }, 
    {
     "cell_type": "markdown", 
     "source": [
      "Take a sample, treating the data as independent points, and FFT"
     ]
    }, 
    {
     "cell_type": "code", 
     "collapsed": false, 
     "input": [
      "samp = dy * randn(size(y)) + y", 
      "# Convert sample to power spectrum ", 
      "# Plot result, again with log y-axis"
     ], 
     "language": "python", 
     "outputs": [], 
     "prompt_number": 27
    }, 
    {
     "cell_type": "markdown", 
     "source": [
      "Take many such samples and build a Fourier space error distribution"
     ]
    }, 
    {
     "cell_type": "code", 
     "collapsed": false, 
     "input": [
      "nr = 100 # Number of resamples", 
      "samples = zeros((nr,size(y)))", 
      "# Make samples (e.g., a for loop, tiling the dy array, ...)"
     ], 
     "language": "python", 
     "outputs": [], 
     "prompt_number": 44
    }, 
    {
     "cell_type": "code", 
     "collapsed": false, 
     "input": [
      "msamp = # Compute the sample mean", 
      "ssamp = # Compute the sample standard deviation"
     ], 
     "language": "python", 
     "outputs": [], 
     "prompt_number": 45
    }, 
    {
     "cell_type": "markdown", 
     "source": [
      "Plot output"
     ]
    }, 
    {
     "cell_type": "code", 
     "collapsed": false, 
     "input": [
      "semilogy(x,fy * conj(fy))", 
      "errorbar(x,msamp,ssamp)"
     ], 
     "language": "python", 
     "outputs": [], 
     "prompt_number": 51
    }
   ]
  }
 ]
}