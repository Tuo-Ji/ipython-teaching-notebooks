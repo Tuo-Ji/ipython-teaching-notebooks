{
 "metadata": {
  "name": "ScientificProgrammingI"
 }, 
 "nbformat": 2, 
 "worksheets": [
  {
   "cells": [
    {
     "cell_type": "code", 
     "collapsed": true, 
     "input": [
      "import numpy as np"
     ], 
     "language": "python", 
     "outputs": [], 
     "prompt_number": 30
    }, 
    {
     "cell_type": "code", 
     "collapsed": true, 
     "input": [
      "import scipy as sp"
     ], 
     "language": "python", 
     "outputs": [], 
     "prompt_number": 31
    }, 
    {
     "cell_type": "markdown", 
     "source": [
      "**I. Integration and interpolation**"
     ]
    }, 
    {
     "cell_type": "code", 
     "collapsed": true, 
     "input": [
      "x = linspace(0,5,10)", 
      "y = x**2"
     ], 
     "language": "python", 
     "outputs": [], 
     "prompt_number": 5
    }, 
    {
     "cell_type": "code", 
     "collapsed": true, 
     "input": [
      "from scipy.interpolate import interp1d"
     ], 
     "language": "python", 
     "outputs": [], 
     "prompt_number": 6
    }, 
    {
     "cell_type": "code", 
     "collapsed": true, 
     "input": [
      "yfn = interp1d(x,y, kind='cubic')", 
      "#yfn = interp1d(x,y, kind='cubic', bounds_error = False, fill_value=0)"
     ], 
     "language": "python", 
     "outputs": [], 
     "prompt_number": 7
    }, 
    {
     "cell_type": "code", 
     "collapsed": false, 
     "input": [
      "xs = linspace(0,5,100)", 
      "ys = yfn(xs)", 
      "plot(x,y,'k.',xs,ys,'k--')"
     ], 
     "language": "python", 
     "outputs": [], 
     "prompt_number": 11
    }, 
    {
     "cell_type": "code", 
     "collapsed": true, 
     "input": [
      "from scipy import integrate"
     ], 
     "language": "python", 
     "outputs": [], 
     "prompt_number": 12
    }, 
    {
     "cell_type": "code", 
     "collapsed": true, 
     "input": [
      "inty = lambda x0: integrate.quad(yfn,0,x0)", 
      "#inty = lambda x0: integrate.quad(yfn,0,x0)[0]"
     ], 
     "language": "python", 
     "outputs": [], 
     "prompt_number": 13
    }, 
    {
     "cell_type": "code", 
     "collapsed": false, 
     "input": [
      "inty(3)[0]"
     ], 
     "language": "python", 
     "outputs": [], 
     "prompt_number": 15
    }, 
    {
     "cell_type": "markdown", 
     "source": [
      "**II. Random sampling and FFTs**"
     ]
    }, 
    {
     "cell_type": "code", 
     "collapsed": true, 
     "input": [
      "from numpy.random import randn"
     ], 
     "language": "python", 
     "outputs": [], 
     "prompt_number": 37
    }, 
    {
     "cell_type": "code", 
     "collapsed": false, 
     "input": [
      "print randn()"
     ], 
     "language": "python", 
     "outputs": [], 
     "prompt_number": 39
    }, 
    {
     "cell_type": "code", 
     "collapsed": false, 
     "input": [
      "y = randn(25)", 
      "print y"
     ], 
     "language": "python", 
     "outputs": [], 
     "prompt_number": 40
    }, 
    {
     "cell_type": "code", 
     "collapsed": true, 
     "input": [
      "from scipy.fftpack import fft"
     ], 
     "language": "python", 
     "outputs": [], 
     "prompt_number": 41
    }, 
    {
     "cell_type": "code", 
     "collapsed": false, 
     "input": [
      "fy = fft(y)", 
      "print fy"
     ], 
     "language": "python", 
     "outputs": [], 
     "prompt_number": 42
    }, 
    {
     "cell_type": "code", 
     "collapsed": false, 
     "input": [
      "semilogy(range(len(y)),fy * conj(fy))"
     ], 
     "language": "python", 
     "outputs": [], 
     "prompt_number": 43
    }, 
    {
     "cell_type": "code", 
     "collapsed": false, 
     "input": [
      "sp.fftpack?"
     ], 
     "language": "python", 
     "outputs": [], 
     "prompt_number": 33
    }, 
    {
     "cell_type": "markdown", 
     "source": [
      "**III. Fitting a model to (covariant) data**"
     ]
    }, 
    {
     "cell_type": "code", 
     "collapsed": true, 
     "input": [], 
     "language": "python", 
     "outputs": [], 
     "prompt_number": "&nbsp;"
    }
   ]
  }
 ]
}