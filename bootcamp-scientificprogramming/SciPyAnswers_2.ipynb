{
 "metadata": {
  "name": "SciPyAnswers_2"
 }, 
 "nbformat": 2, 
 "worksheets": [
  {
   "cells": [
    {
     "cell_type": "markdown", 
     "source": [
      "**II. Random sampling and FFTs**"
     ]
    }, 
    {
     "cell_type": "markdown", 
     "source": [
      "Load data from file"
     ]
    }, 
    {
     "cell_type": "code", 
     "collapsed": true, 
     "input": [
      "data = genfromtxt('SP1_P2_data.txt');", 
      "x = data[:,0]; y = data[:,1]; dy = data[:,2];", 
      "errorbar(x,y,dy);"
     ], 
     "language": "python", 
     "outputs": [], 
     "prompt_number": 5
    }, 
    {
     "cell_type": "markdown", 
     "source": [
      "Take FFT of data values"
     ]
    }, 
    {
     "cell_type": "code", 
     "collapsed": false, 
     "input": [
      "from scipy.fftpack import fft", 
      "fy = fft(y);", 
      "semilogy(x,fy * conj(fy),'k.')"
     ], 
     "language": "python", 
     "outputs": [], 
     "prompt_number": 19
    }, 
    {
     "cell_type": "markdown", 
     "source": [
      "Take a sample, treating the data as independent points, and FFT"
     ]
    }, 
    {
     "cell_type": "code", 
     "collapsed": false, 
     "input": [
      "samp = dy * randn(size(y)) + y", 
      "plot(x,samp,'k.',x,y,'k--')"
     ], 
     "language": "python", 
     "outputs": [], 
     "prompt_number": 27
    }, 
    {
     "cell_type": "code", 
     "collapsed": false, 
     "input": [
      "fys = fft(samp);", 
      "semilogy(x,fy*conj(fy),'k--',x,fys*conj(fys),'k.')"
     ], 
     "language": "python", 
     "outputs": [], 
     "prompt_number": 28
    }, 
    {
     "cell_type": "markdown", 
     "source": [
      "Take many such samples and build a Fourier space error distribution"
     ]
    }, 
    {
     "cell_type": "code", 
     "collapsed": false, 
     "input": [
      "nr = 100", 
      "samples = zeros((nr,size(y)))", 
      "for i in range(nr):", 
      "    tmp = dy * randn(size(y)) + y", 
      "    ftmp = fft(tmp)", 
      "    samples[i,:] = ftmp * conj(ftmp)"
     ], 
     "language": "python", 
     "outputs": [], 
     "prompt_number": 44
    }, 
    {
     "cell_type": "code", 
     "collapsed": true, 
     "input": [
      "msamp = mean(samples,0)", 
      "ssamp = std(samples,0)"
     ], 
     "language": "python", 
     "outputs": [], 
     "prompt_number": 45
    }, 
    {
     "cell_type": "code", 
     "collapsed": false, 
     "input": [
      "semilogy(x,fy * conj(fy))", 
      "errorbar(x,msamp,ssamp)"
     ], 
     "language": "python", 
     "outputs": [], 
     "prompt_number": 51
    }
   ]
  }
 ]
}